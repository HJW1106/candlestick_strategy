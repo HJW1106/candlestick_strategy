{
 "cells": [
  {
   "cell_type": "code",
   "execution_count": 1,
   "id": "c92c9ef5",
   "metadata": {},
   "outputs": [],
   "source": [
    "import pandas as pd\n",
    "import os\n",
    "import numpy as np "
   ]
  },
  {
   "cell_type": "code",
   "execution_count": 3,
   "id": "c86fe346",
   "metadata": {
    "scrolled": true
   },
   "outputs": [],
   "source": [
    "file_path = r'..\\Paper\\backtest\\\\'\n",
    "test = pd.DataFrame()\n",
    "for i in range(0,1800,50):\n",
    "    test_path = pd.read_csv(os.path.join(file_path, 'backtest_' + str(i) + '_' + str(i+50) + '.csv')).iloc[:,1:]\n",
    "    test = pd.concat([test,test_path])"
   ]
  },
  {
   "cell_type": "code",
   "execution_count": 6,
   "id": "748f6ed0",
   "metadata": {},
   "outputs": [],
   "source": [
    "test.to_csv('backtest.csv')"
   ]
  },
  {
   "cell_type": "code",
   "execution_count": null,
   "id": "6ff9afe0",
   "metadata": {},
   "outputs": [],
   "source": []
  }
 ],
 "metadata": {
  "kernelspec": {
   "display_name": "Python 3 (ipykernel)",
   "language": "python",
   "name": "python3"
  },
  "language_info": {
   "codemirror_mode": {
    "name": "ipython",
    "version": 3
   },
   "file_extension": ".py",
   "mimetype": "text/x-python",
   "name": "python",
   "nbconvert_exporter": "python",
   "pygments_lexer": "ipython3",
   "version": "3.11.5"
  }
 },
 "nbformat": 4,
 "nbformat_minor": 5
}
