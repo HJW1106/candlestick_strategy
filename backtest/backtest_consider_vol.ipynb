{
 "cells": [
  {
   "cell_type": "code",
   "execution_count": 1,
   "id": "6893aa1e",
   "metadata": {
    "scrolled": false
   },
   "outputs": [],
   "source": [
    "import pandas as pd\n",
    "import matplotlib.pyplot as plt\n",
    "import numpy as np\n",
    "import mplfinance as mpf\n",
    "import os\n",
    "from pandas import to_datetime"
   ]
  },
  {
   "cell_type": "code",
   "execution_count": 2,
   "id": "1c375145",
   "metadata": {},
   "outputs": [],
   "source": [
    "data = pd.read_excel(r'C:\\Users\\USER\\Paper\\Test_2023.xlsx')"
   ]
  },
  {
   "cell_type": "code",
   "execution_count": 3,
   "id": "5dbd14d7",
   "metadata": {
    "scrolled": true
   },
   "outputs": [
    {
     "name": "stderr",
     "output_type": "stream",
     "text": [
      "C:\\Users\\USER\\AppData\\Local\\Temp\\ipykernel_17488\\1777592887.py:1: DtypeWarning: Columns (1) have mixed types. Specify dtype option on import or set low_memory=False.\n",
      "  test = pd.read_csv(r'C:\\Users\\USER\\Paper\\backtest.csv')\n"
     ]
    }
   ],
   "source": [
    "test = pd.read_csv(r'C:\\Users\\USER\\Paper\\backtest.csv')"
   ]
  },
  {
   "cell_type": "code",
   "execution_count": 4,
   "id": "2e5243c3",
   "metadata": {},
   "outputs": [],
   "source": [
    "data_drop = data.drop_duplicates('代號',keep='first').reset_index(drop=True)"
   ]
  },
  {
   "cell_type": "code",
   "execution_count": 5,
   "id": "b66b2864",
   "metadata": {},
   "outputs": [],
   "source": [
    "name = []\n",
    "mv = []\n",
    "for code in data_drop['代號']:\n",
    "    trade_vol = data[data['代號'] == code]['成交值(千元)'].mean()\n",
    "    \n",
    "    mv.append(trade_vol)\n",
    "    name.append(code)\n",
    "name_series = pd.Series(name, name='code')\n",
    "mv_series = pd.Series(mv, name='成交值')\n",
    "data_vol = pd.concat([name_series,mv_series],axis=1)"
   ]
  },
  {
   "cell_type": "code",
   "execution_count": 90,
   "id": "957b730e",
   "metadata": {
    "scrolled": true
   },
   "outputs": [],
   "source": [
    "data_vol_new = data_vol[data_vol['成交值'] >= data_vol['成交值'].quantile(0.95)]"
   ]
  },
  {
   "cell_type": "code",
   "execution_count": 92,
   "id": "f35a03a3",
   "metadata": {},
   "outputs": [],
   "source": [
    "data_vol_new.loc[:, 'code'] = data_vol_new['code'].astype(str)\n",
    "test.loc[:, 'code'] = test['code'].astype(str)"
   ]
  },
  {
   "cell_type": "code",
   "execution_count": 93,
   "id": "13eb820c",
   "metadata": {},
   "outputs": [],
   "source": [
    "test_new = test[test['code'].isin(data_vol_new['code'])]"
   ]
  },
  {
   "cell_type": "code",
   "execution_count": 95,
   "id": "39ef35fb",
   "metadata": {},
   "outputs": [],
   "source": [
    "test_new.iloc[:,1:].to_csv('test_new.csv')"
   ]
  }
 ],
 "metadata": {
  "kernelspec": {
   "display_name": "Python 3 (ipykernel)",
   "language": "python",
   "name": "python3"
  },
  "language_info": {
   "codemirror_mode": {
    "name": "ipython",
    "version": 3
   },
   "file_extension": ".py",
   "mimetype": "text/x-python",
   "name": "python",
   "nbconvert_exporter": "python",
   "pygments_lexer": "ipython3",
   "version": "3.11.5"
  }
 },
 "nbformat": 4,
 "nbformat_minor": 5
}
