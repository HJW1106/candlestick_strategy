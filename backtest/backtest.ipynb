{
 "cells": [
  {
   "cell_type": "code",
   "execution_count": 1,
   "id": "ce23dd3b",
   "metadata": {},
   "outputs": [],
   "source": [
    "import os\n",
    "import numpy as np \n",
    "import pandas as pd\n",
    "from glob import glob\n",
    "import cv2\n",
    "import random\n",
    "import matplotlib.pyplot as plt\n",
    "import joblib\n",
    "from tensorflow.keras.models import load_model"
   ]
  },
  {
   "cell_type": "code",
   "execution_count": 2,
   "id": "f29c2324",
   "metadata": {
    "scrolled": true
   },
   "outputs": [
    {
     "name": "stderr",
     "output_type": "stream",
     "text": [
      "C:\\Users\\USER\\AppData\\Local\\Temp\\ipykernel_15412\\1204814147.py:1: DtypeWarning: Columns (4) have mixed types. Specify dtype option on import or set low_memory=False.\n",
      "  test_list = pd.read_csv(r'..\\Paper\\test_path.csv').iloc[:,1:]\n"
     ]
    }
   ],
   "source": [
    "test_list = pd.read_csv(r'..\\Paper\\test_path.csv').iloc[:,1:]\n",
    "test_path = '..\\Paper\\Test\\\\'\n",
    "test_list['File Paths'] = test_list['File Paths'].apply(lambda path:os.path.join(test_path, path))\n",
    "df_drop_test = test_list.drop_duplicates('code',keep='first').reset_index(drop=True)"
   ]
  },
  {
   "cell_type": "code",
   "execution_count": 3,
   "id": "99df27a6",
   "metadata": {
    "scrolled": true
   },
   "outputs": [],
   "source": [
    "model = load_model(r'..\\Paper\\model_V2.h5')"
   ]
  },
  {
   "cell_type": "code",
   "execution_count": 5,
   "id": "72806bed",
   "metadata": {
    "scrolled": true
   },
   "outputs": [
    {
     "name": "stderr",
     "output_type": "stream",
     "text": [
      "C:\\Users\\USER\\AppData\\Local\\Temp\\ipykernel_15412\\1890274416.py:26: FutureWarning: Setting an item of incompatible dtype is deprecated and will raise in a future error of pandas. Value '-0.05882352941176472' has dtype incompatible with int64, please explicitly cast to a compatible dtype first.\n",
      "  backtest_df.loc[sell_index, 'RR'] = backtest_df.loc[sell_index, 'Close'] /backtest_df.loc[buy_index, 'Close'] - 1\n",
      "C:\\Users\\USER\\AppData\\Local\\Temp\\ipykernel_15412\\1890274416.py:28: FutureWarning: Setting an item of incompatible dtype is deprecated and will raise in a future error of pandas. Value '-0.037871033776867846' has dtype incompatible with int64, please explicitly cast to a compatible dtype first.\n",
      "  backtest_df.loc[buy_index, 'RR']  = backtest_df.loc[sell_index, 'Close']/backtest_df.loc[buy_index, 'Close'] - 1\n",
      "C:\\Users\\USER\\AppData\\Local\\Temp\\ipykernel_15412\\1890274416.py:26: FutureWarning: Setting an item of incompatible dtype is deprecated and will raise in a future error of pandas. Value '0.229209756097561' has dtype incompatible with int64, please explicitly cast to a compatible dtype first.\n",
      "  backtest_df.loc[sell_index, 'RR'] = backtest_df.loc[sell_index, 'Close'] /backtest_df.loc[buy_index, 'Close'] - 1\n",
      "C:\\Users\\USER\\AppData\\Local\\Temp\\ipykernel_15412\\1890274416.py:26: FutureWarning: Setting an item of incompatible dtype is deprecated and will raise in a future error of pandas. Value '0.07382289416846644' has dtype incompatible with int64, please explicitly cast to a compatible dtype first.\n",
      "  backtest_df.loc[sell_index, 'RR'] = backtest_df.loc[sell_index, 'Close'] /backtest_df.loc[buy_index, 'Close'] - 1\n",
      "C:\\Users\\USER\\AppData\\Local\\Temp\\ipykernel_15412\\1890274416.py:26: FutureWarning: Setting an item of incompatible dtype is deprecated and will raise in a future error of pandas. Value '-0.07798942854293411' has dtype incompatible with int64, please explicitly cast to a compatible dtype first.\n",
      "  backtest_df.loc[sell_index, 'RR'] = backtest_df.loc[sell_index, 'Close'] /backtest_df.loc[buy_index, 'Close'] - 1\n",
      "C:\\Users\\USER\\AppData\\Local\\Temp\\ipykernel_15412\\1890274416.py:26: FutureWarning: Setting an item of incompatible dtype is deprecated and will raise in a future error of pandas. Value '-0.009548238897396533' has dtype incompatible with int64, please explicitly cast to a compatible dtype first.\n",
      "  backtest_df.loc[sell_index, 'RR'] = backtest_df.loc[sell_index, 'Close'] /backtest_df.loc[buy_index, 'Close'] - 1\n",
      "C:\\Users\\USER\\AppData\\Local\\Temp\\ipykernel_15412\\1890274416.py:26: FutureWarning: Setting an item of incompatible dtype is deprecated and will raise in a future error of pandas. Value '0.1986301369863015' has dtype incompatible with int64, please explicitly cast to a compatible dtype first.\n",
      "  backtest_df.loc[sell_index, 'RR'] = backtest_df.loc[sell_index, 'Close'] /backtest_df.loc[buy_index, 'Close'] - 1\n",
      "C:\\Users\\USER\\AppData\\Local\\Temp\\ipykernel_15412\\1890274416.py:26: FutureWarning: Setting an item of incompatible dtype is deprecated and will raise in a future error of pandas. Value '0.0847457627118644' has dtype incompatible with int64, please explicitly cast to a compatible dtype first.\n",
      "  backtest_df.loc[sell_index, 'RR'] = backtest_df.loc[sell_index, 'Close'] /backtest_df.loc[buy_index, 'Close'] - 1\n",
      "C:\\Users\\USER\\AppData\\Local\\Temp\\ipykernel_15412\\1890274416.py:26: FutureWarning: Setting an item of incompatible dtype is deprecated and will raise in a future error of pandas. Value '-0.06854825462012326' has dtype incompatible with int64, please explicitly cast to a compatible dtype first.\n",
      "  backtest_df.loc[sell_index, 'RR'] = backtest_df.loc[sell_index, 'Close'] /backtest_df.loc[buy_index, 'Close'] - 1\n",
      "C:\\Users\\USER\\AppData\\Local\\Temp\\ipykernel_15412\\1890274416.py:26: FutureWarning: Setting an item of incompatible dtype is deprecated and will raise in a future error of pandas. Value '-0.20897258515879813' has dtype incompatible with int64, please explicitly cast to a compatible dtype first.\n",
      "  backtest_df.loc[sell_index, 'RR'] = backtest_df.loc[sell_index, 'Close'] /backtest_df.loc[buy_index, 'Close'] - 1\n",
      "C:\\Users\\USER\\AppData\\Local\\Temp\\ipykernel_15412\\1890274416.py:28: FutureWarning: Setting an item of incompatible dtype is deprecated and will raise in a future error of pandas. Value '0.047245592560852145' has dtype incompatible with int64, please explicitly cast to a compatible dtype first.\n",
      "  backtest_df.loc[buy_index, 'RR']  = backtest_df.loc[sell_index, 'Close']/backtest_df.loc[buy_index, 'Close'] - 1\n",
      "C:\\Users\\USER\\AppData\\Local\\Temp\\ipykernel_15412\\1890274416.py:26: FutureWarning: Setting an item of incompatible dtype is deprecated and will raise in a future error of pandas. Value '0.020000000000000018' has dtype incompatible with int64, please explicitly cast to a compatible dtype first.\n",
      "  backtest_df.loc[sell_index, 'RR'] = backtest_df.loc[sell_index, 'Close'] /backtest_df.loc[buy_index, 'Close'] - 1\n",
      "C:\\Users\\USER\\AppData\\Local\\Temp\\ipykernel_15412\\1890274416.py:26: FutureWarning: Setting an item of incompatible dtype is deprecated and will raise in a future error of pandas. Value '0.02487510312234531' has dtype incompatible with int64, please explicitly cast to a compatible dtype first.\n",
      "  backtest_df.loc[sell_index, 'RR'] = backtest_df.loc[sell_index, 'Close'] /backtest_df.loc[buy_index, 'Close'] - 1\n",
      "C:\\Users\\USER\\AppData\\Local\\Temp\\ipykernel_15412\\1890274416.py:26: FutureWarning: Setting an item of incompatible dtype is deprecated and will raise in a future error of pandas. Value '0.12284882418812981' has dtype incompatible with int64, please explicitly cast to a compatible dtype first.\n",
      "  backtest_df.loc[sell_index, 'RR'] = backtest_df.loc[sell_index, 'Close'] /backtest_df.loc[buy_index, 'Close'] - 1\n",
      "C:\\Users\\USER\\AppData\\Local\\Temp\\ipykernel_15412\\1890274416.py:26: FutureWarning: Setting an item of incompatible dtype is deprecated and will raise in a future error of pandas. Value '0.428572225040839' has dtype incompatible with int64, please explicitly cast to a compatible dtype first.\n",
      "  backtest_df.loc[sell_index, 'RR'] = backtest_df.loc[sell_index, 'Close'] /backtest_df.loc[buy_index, 'Close'] - 1\n",
      "C:\\Users\\USER\\AppData\\Local\\Temp\\ipykernel_15412\\1890274416.py:26: FutureWarning: Setting an item of incompatible dtype is deprecated and will raise in a future error of pandas. Value '0.06451612903225801' has dtype incompatible with int64, please explicitly cast to a compatible dtype first.\n",
      "  backtest_df.loc[sell_index, 'RR'] = backtest_df.loc[sell_index, 'Close'] /backtest_df.loc[buy_index, 'Close'] - 1\n",
      "C:\\Users\\USER\\AppData\\Local\\Temp\\ipykernel_15412\\1890274416.py:26: FutureWarning: Setting an item of incompatible dtype is deprecated and will raise in a future error of pandas. Value '0.09012875536480669' has dtype incompatible with int64, please explicitly cast to a compatible dtype first.\n",
      "  backtest_df.loc[sell_index, 'RR'] = backtest_df.loc[sell_index, 'Close'] /backtest_df.loc[buy_index, 'Close'] - 1\n",
      "C:\\Users\\USER\\AppData\\Local\\Temp\\ipykernel_15412\\1890274416.py:26: FutureWarning: Setting an item of incompatible dtype is deprecated and will raise in a future error of pandas. Value '0.041161602633719374' has dtype incompatible with int64, please explicitly cast to a compatible dtype first.\n",
      "  backtest_df.loc[sell_index, 'RR'] = backtest_df.loc[sell_index, 'Close'] /backtest_df.loc[buy_index, 'Close'] - 1\n",
      "C:\\Users\\USER\\AppData\\Local\\Temp\\ipykernel_15412\\1890274416.py:28: FutureWarning: Setting an item of incompatible dtype is deprecated and will raise in a future error of pandas. Value '0.03407755581668637' has dtype incompatible with int64, please explicitly cast to a compatible dtype first.\n",
      "  backtest_df.loc[buy_index, 'RR']  = backtest_df.loc[sell_index, 'Close']/backtest_df.loc[buy_index, 'Close'] - 1\n",
      "C:\\Users\\USER\\AppData\\Local\\Temp\\ipykernel_15412\\1890274416.py:28: FutureWarning: Setting an item of incompatible dtype is deprecated and will raise in a future error of pandas. Value '0.3343373493975901' has dtype incompatible with int64, please explicitly cast to a compatible dtype first.\n",
      "  backtest_df.loc[buy_index, 'RR']  = backtest_df.loc[sell_index, 'Close']/backtest_df.loc[buy_index, 'Close'] - 1\n",
      "C:\\Users\\USER\\AppData\\Local\\Temp\\ipykernel_15412\\1890274416.py:28: FutureWarning: Setting an item of incompatible dtype is deprecated and will raise in a future error of pandas. Value '0.009784735812133016' has dtype incompatible with int64, please explicitly cast to a compatible dtype first.\n",
      "  backtest_df.loc[buy_index, 'RR']  = backtest_df.loc[sell_index, 'Close']/backtest_df.loc[buy_index, 'Close'] - 1\n"
     ]
    },
    {
     "name": "stderr",
     "output_type": "stream",
     "text": [
      "C:\\Users\\USER\\AppData\\Local\\Temp\\ipykernel_15412\\1890274416.py:26: FutureWarning: Setting an item of incompatible dtype is deprecated and will raise in a future error of pandas. Value '-0.18760862354892205' has dtype incompatible with int64, please explicitly cast to a compatible dtype first.\n",
      "  backtest_df.loc[sell_index, 'RR'] = backtest_df.loc[sell_index, 'Close'] /backtest_df.loc[buy_index, 'Close'] - 1\n",
      "C:\\Users\\USER\\AppData\\Local\\Temp\\ipykernel_15412\\1890274416.py:28: FutureWarning: Setting an item of incompatible dtype is deprecated and will raise in a future error of pandas. Value '-0.041361667057752904' has dtype incompatible with int64, please explicitly cast to a compatible dtype first.\n",
      "  backtest_df.loc[buy_index, 'RR']  = backtest_df.loc[sell_index, 'Close']/backtest_df.loc[buy_index, 'Close'] - 1\n",
      "C:\\Users\\USER\\AppData\\Local\\Temp\\ipykernel_15412\\1890274416.py:26: FutureWarning: Setting an item of incompatible dtype is deprecated and will raise in a future error of pandas. Value '0.014450430571960382' has dtype incompatible with int64, please explicitly cast to a compatible dtype first.\n",
      "  backtest_df.loc[sell_index, 'RR'] = backtest_df.loc[sell_index, 'Close'] /backtest_df.loc[buy_index, 'Close'] - 1\n",
      "C:\\Users\\USER\\AppData\\Local\\Temp\\ipykernel_15412\\1890274416.py:28: FutureWarning: Setting an item of incompatible dtype is deprecated and will raise in a future error of pandas. Value '0.040219877300613494' has dtype incompatible with int64, please explicitly cast to a compatible dtype first.\n",
      "  backtest_df.loc[buy_index, 'RR']  = backtest_df.loc[sell_index, 'Close']/backtest_df.loc[buy_index, 'Close'] - 1\n",
      "C:\\Users\\USER\\AppData\\Local\\Temp\\ipykernel_15412\\1890274416.py:28: FutureWarning: Setting an item of incompatible dtype is deprecated and will raise in a future error of pandas. Value '-0.2521874378976704' has dtype incompatible with int64, please explicitly cast to a compatible dtype first.\n",
      "  backtest_df.loc[buy_index, 'RR']  = backtest_df.loc[sell_index, 'Close']/backtest_df.loc[buy_index, 'Close'] - 1\n",
      "C:\\Users\\USER\\AppData\\Local\\Temp\\ipykernel_15412\\1890274416.py:26: FutureWarning: Setting an item of incompatible dtype is deprecated and will raise in a future error of pandas. Value '0.0727692307692307' has dtype incompatible with int64, please explicitly cast to a compatible dtype first.\n",
      "  backtest_df.loc[sell_index, 'RR'] = backtest_df.loc[sell_index, 'Close'] /backtest_df.loc[buy_index, 'Close'] - 1\n",
      "C:\\Users\\USER\\AppData\\Local\\Temp\\ipykernel_15412\\1890274416.py:26: FutureWarning: Setting an item of incompatible dtype is deprecated and will raise in a future error of pandas. Value '0.03632278789850352' has dtype incompatible with int64, please explicitly cast to a compatible dtype first.\n",
      "  backtest_df.loc[sell_index, 'RR'] = backtest_df.loc[sell_index, 'Close'] /backtest_df.loc[buy_index, 'Close'] - 1\n",
      "C:\\Users\\USER\\AppData\\Local\\Temp\\ipykernel_15412\\1890274416.py:26: FutureWarning: Setting an item of incompatible dtype is deprecated and will raise in a future error of pandas. Value '0.3107080131723383' has dtype incompatible with int64, please explicitly cast to a compatible dtype first.\n",
      "  backtest_df.loc[sell_index, 'RR'] = backtest_df.loc[sell_index, 'Close'] /backtest_df.loc[buy_index, 'Close'] - 1\n",
      "C:\\Users\\USER\\AppData\\Local\\Temp\\ipykernel_15412\\1890274416.py:28: FutureWarning: Setting an item of incompatible dtype is deprecated and will raise in a future error of pandas. Value '0.7334441143594923' has dtype incompatible with int64, please explicitly cast to a compatible dtype first.\n",
      "  backtest_df.loc[buy_index, 'RR']  = backtest_df.loc[sell_index, 'Close']/backtest_df.loc[buy_index, 'Close'] - 1\n",
      "C:\\Users\\USER\\AppData\\Local\\Temp\\ipykernel_15412\\1890274416.py:26: FutureWarning: Setting an item of incompatible dtype is deprecated and will raise in a future error of pandas. Value '0.1270268068117002' has dtype incompatible with int64, please explicitly cast to a compatible dtype first.\n",
      "  backtest_df.loc[sell_index, 'RR'] = backtest_df.loc[sell_index, 'Close'] /backtest_df.loc[buy_index, 'Close'] - 1\n",
      "C:\\Users\\USER\\AppData\\Local\\Temp\\ipykernel_15412\\1890274416.py:26: FutureWarning: Setting an item of incompatible dtype is deprecated and will raise in a future error of pandas. Value '0.0092592592592593' has dtype incompatible with int64, please explicitly cast to a compatible dtype first.\n",
      "  backtest_df.loc[sell_index, 'RR'] = backtest_df.loc[sell_index, 'Close'] /backtest_df.loc[buy_index, 'Close'] - 1\n",
      "C:\\Users\\USER\\AppData\\Local\\Temp\\ipykernel_15412\\1890274416.py:28: FutureWarning: Setting an item of incompatible dtype is deprecated and will raise in a future error of pandas. Value '0.1321889576195725' has dtype incompatible with int64, please explicitly cast to a compatible dtype first.\n",
      "  backtest_df.loc[buy_index, 'RR']  = backtest_df.loc[sell_index, 'Close']/backtest_df.loc[buy_index, 'Close'] - 1\n",
      "C:\\Users\\USER\\AppData\\Local\\Temp\\ipykernel_15412\\1890274416.py:26: FutureWarning: Setting an item of incompatible dtype is deprecated and will raise in a future error of pandas. Value '0.10091666666666677' has dtype incompatible with int64, please explicitly cast to a compatible dtype first.\n",
      "  backtest_df.loc[sell_index, 'RR'] = backtest_df.loc[sell_index, 'Close'] /backtest_df.loc[buy_index, 'Close'] - 1\n",
      "C:\\Users\\USER\\AppData\\Local\\Temp\\ipykernel_15412\\1890274416.py:26: FutureWarning: Setting an item of incompatible dtype is deprecated and will raise in a future error of pandas. Value '-0.04694835680751175' has dtype incompatible with int64, please explicitly cast to a compatible dtype first.\n",
      "  backtest_df.loc[sell_index, 'RR'] = backtest_df.loc[sell_index, 'Close'] /backtest_df.loc[buy_index, 'Close'] - 1\n",
      "C:\\Users\\USER\\AppData\\Local\\Temp\\ipykernel_15412\\1890274416.py:28: FutureWarning: Setting an item of incompatible dtype is deprecated and will raise in a future error of pandas. Value '-0.0010183299389001643' has dtype incompatible with int64, please explicitly cast to a compatible dtype first.\n",
      "  backtest_df.loc[buy_index, 'RR']  = backtest_df.loc[sell_index, 'Close']/backtest_df.loc[buy_index, 'Close'] - 1\n",
      "C:\\Users\\USER\\AppData\\Local\\Temp\\ipykernel_15412\\1890274416.py:26: FutureWarning: Setting an item of incompatible dtype is deprecated and will raise in a future error of pandas. Value '-0.05881856540084385' has dtype incompatible with int64, please explicitly cast to a compatible dtype first.\n",
      "  backtest_df.loc[sell_index, 'RR'] = backtest_df.loc[sell_index, 'Close'] /backtest_df.loc[buy_index, 'Close'] - 1\n",
      "C:\\Users\\USER\\AppData\\Local\\Temp\\ipykernel_15412\\1890274416.py:26: FutureWarning: Setting an item of incompatible dtype is deprecated and will raise in a future error of pandas. Value '-0.48374364896073896' has dtype incompatible with int64, please explicitly cast to a compatible dtype first.\n",
      "  backtest_df.loc[sell_index, 'RR'] = backtest_df.loc[sell_index, 'Close'] /backtest_df.loc[buy_index, 'Close'] - 1\n",
      "C:\\Users\\USER\\AppData\\Local\\Temp\\ipykernel_15412\\1890274416.py:28: FutureWarning: Setting an item of incompatible dtype is deprecated and will raise in a future error of pandas. Value '0.5333333333333334' has dtype incompatible with int64, please explicitly cast to a compatible dtype first.\n",
      "  backtest_df.loc[buy_index, 'RR']  = backtest_df.loc[sell_index, 'Close']/backtest_df.loc[buy_index, 'Close'] - 1\n",
      "C:\\Users\\USER\\AppData\\Local\\Temp\\ipykernel_15412\\1890274416.py:28: FutureWarning: Setting an item of incompatible dtype is deprecated and will raise in a future error of pandas. Value '-0.13222079589216962' has dtype incompatible with int64, please explicitly cast to a compatible dtype first.\n",
      "  backtest_df.loc[buy_index, 'RR']  = backtest_df.loc[sell_index, 'Close']/backtest_df.loc[buy_index, 'Close'] - 1\n",
      "C:\\Users\\USER\\AppData\\Local\\Temp\\ipykernel_15412\\1890274416.py:26: FutureWarning: Setting an item of incompatible dtype is deprecated and will raise in a future error of pandas. Value '0.017360793408945252' has dtype incompatible with int64, please explicitly cast to a compatible dtype first.\n",
      "  backtest_df.loc[sell_index, 'RR'] = backtest_df.loc[sell_index, 'Close'] /backtest_df.loc[buy_index, 'Close'] - 1\n",
      "C:\\Users\\USER\\AppData\\Local\\Temp\\ipykernel_15412\\1890274416.py:26: FutureWarning: Setting an item of incompatible dtype is deprecated and will raise in a future error of pandas. Value '-0.17240247252747254' has dtype incompatible with int64, please explicitly cast to a compatible dtype first.\n",
      "  backtest_df.loc[sell_index, 'RR'] = backtest_df.loc[sell_index, 'Close'] /backtest_df.loc[buy_index, 'Close'] - 1\n"
     ]
    },
    {
     "name": "stderr",
     "output_type": "stream",
     "text": [
      "C:\\Users\\USER\\AppData\\Local\\Temp\\ipykernel_15412\\1890274416.py:28: FutureWarning: Setting an item of incompatible dtype is deprecated and will raise in a future error of pandas. Value '-0.17934782608695643' has dtype incompatible with int64, please explicitly cast to a compatible dtype first.\n",
      "  backtest_df.loc[buy_index, 'RR']  = backtest_df.loc[sell_index, 'Close']/backtest_df.loc[buy_index, 'Close'] - 1\n",
      "C:\\Users\\USER\\AppData\\Local\\Temp\\ipykernel_15412\\1890274416.py:26: FutureWarning: Setting an item of incompatible dtype is deprecated and will raise in a future error of pandas. Value '-0.10778423772609824' has dtype incompatible with int64, please explicitly cast to a compatible dtype first.\n",
      "  backtest_df.loc[sell_index, 'RR'] = backtest_df.loc[sell_index, 'Close'] /backtest_df.loc[buy_index, 'Close'] - 1\n",
      "C:\\Users\\USER\\AppData\\Local\\Temp\\ipykernel_15412\\1890274416.py:26: FutureWarning: Setting an item of incompatible dtype is deprecated and will raise in a future error of pandas. Value '0.013231638418079061' has dtype incompatible with int64, please explicitly cast to a compatible dtype first.\n",
      "  backtest_df.loc[sell_index, 'RR'] = backtest_df.loc[sell_index, 'Close'] /backtest_df.loc[buy_index, 'Close'] - 1\n",
      "C:\\Users\\USER\\AppData\\Local\\Temp\\ipykernel_15412\\1890274416.py:26: FutureWarning: Setting an item of incompatible dtype is deprecated and will raise in a future error of pandas. Value '0.050938337801608835' has dtype incompatible with int64, please explicitly cast to a compatible dtype first.\n",
      "  backtest_df.loc[sell_index, 'RR'] = backtest_df.loc[sell_index, 'Close'] /backtest_df.loc[buy_index, 'Close'] - 1\n"
     ]
    },
    {
     "data": {
      "text/plain": [
       "\"    \\n    RR_5d = []\\n    RR_10d = []\\n    RR_15d = []\\n    RR_20d = []\\n    RR_30d = []\\n    RR_60d = []\\n    RR_90d = []\\n    RR_120d = []\\n    RR_180d = []\\n    RR_240d = []\\n\\n    for i in range(len(test_df)):\\n\\n        if backtest_df['Decision'].loc[i] == 'Buy' and i+5 < len(test_df):\\n            RR = (backtest_df['Close'].loc[i+5] / backtest_df['Close'].loc[i]) - 1\\n        elif backtest_df['Decision'].loc[i] == 'Sell' and i+5 < len(test_df):\\n            RR = (backtest_df['Close'].loc[i] / backtest_df['Close'].loc[i+5]) - 1 \\n        else:\\n            RR = 0\\n        RR_5d.append(RR)\\n        \\n        if backtest_df['Decision'].loc[i] == 'Buy' and i+10 < len(test_df):\\n            RR = (backtest_df['Close'].loc[i+10] / backtest_df['Close'].loc[i]) - 1\\n        elif backtest_df['Decision'].loc[i] == 'Sell' and i+10 < len(test_df):\\n            RR = (backtest_df['Close'].loc[i] / backtest_df['Close'].loc[i+10]) - 1 \\n        else:\\n            RR = 0\\n        RR_10d.append(RR)\\n        \\n        if backtest_df['Decision'].loc[i] == 'Buy' and i+15 < len(test_df):\\n            RR = (backtest_df['Close'].loc[i+15] / backtest_df['Close'].loc[i]) - 1\\n        elif backtest_df['Decision'].loc[i] == 'Sell' and i+15 < len(test_df):\\n            RR = (backtest_df['Close'].loc[i] / backtest_df['Close'].loc[i+15]) - 1 \\n        else:\\n            RR = 0\\n        RR_15d.append(RR)\\n        \\n        if backtest_df['Decision'].loc[i] == 'Buy' and i+20 < len(test_df):\\n            RR = (backtest_df['Close'].loc[i+20] / backtest_df['Close'].loc[i]) - 1\\n        elif backtest_df['Decision'].loc[i] == 'Sell' and i+20 < len(test_df):\\n            RR = (backtest_df['Close'].loc[i] / backtest_df['Close'].loc[i+20]) - 1 \\n        else:\\n            RR = 0\\n        RR_20d.append(RR)\\n        \\n        if backtest_df['Decision'].loc[i] == 'Buy' and i+30 < len(test_df):\\n            RR = (backtest_df['Close'].loc[i+30] / backtest_df['Close'].loc[i]) - 1\\n        elif backtest_df['Decision'].loc[i] == 'Sell' and i+30 < len(test_df):\\n            RR = (backtest_df['Close'].loc[i] / backtest_df['Close'].loc[i+30]) - 1 \\n        else:\\n            RR = 0\\n        RR_30d.append(RR)\\n        \\n        if backtest_df['Decision'].loc[i] == 'Buy' and i+60 < len(test_df):\\n            RR = (backtest_df['Close'].loc[i+60] / backtest_df['Close'].loc[i]) - 1\\n        elif backtest_df['Decision'].loc[i] == 'Sell' and i+60 < len(test_df):\\n            RR = (backtest_df['Close'].loc[i] / backtest_df['Close'].loc[i+60]) - 1 \\n        else:\\n            RR = 0\\n        RR_60d.append(RR)\\n        \\n        if backtest_df['Decision'].loc[i] == 'Buy' and i+90 < len(test_df):\\n            RR = (backtest_df['Close'].loc[i+90] / backtest_df['Close'].loc[i]) - 1\\n        elif backtest_df['Decision'].loc[i] == 'Sell' and i+90 < len(test_df):\\n            RR = (backtest_df['Close'].loc[i] / backtest_df['Close'].loc[i+90]) - 1 \\n        else:\\n            RR = 0\\n        RR_90d.append(RR)\\n        \\n        if backtest_df['Decision'].loc[i] == 'Buy' and i+120 < len(test_df):\\n            RR = (backtest_df['Close'].loc[i+120] / backtest_df['Close'].loc[i]) - 1\\n        elif backtest_df['Decision'].loc[i] == 'Sell' and i+120 < len(test_df):\\n            RR = (backtest_df['Close'].loc[i] / backtest_df['Close'].loc[i+120]) - 1 \\n        else:\\n            RR = 0\\n        RR_120d.append(RR)\\n        \\n        if backtest_df['Decision'].loc[i] == 'Buy' and i+180 < len(test_df):\\n            RR = (backtest_df['Close'].loc[i+180] / backtest_df['Close'].loc[i]) - 1\\n        elif backtest_df['Decision'].loc[i] == 'Sell' and i+180 < len(test_df):\\n            RR = (backtest_df['Close'].loc[i] / backtest_df['Close'].loc[i+180]) - 1 \\n        else:\\n            RR = 0\\n        RR_180d.append(RR)  \\n        \\n        if backtest_df['Decision'].loc[i] == 'Buy' and i+240 < len(test_df):\\n            RR = (backtest_df['Close'].loc[i+240] / backtest_df['Close'].loc[i]) - 1\\n        elif backtest_df['Decision'].loc[i] == 'Sell' and i+240 <= len(test_df):\\n            RR = (backtest_df['Close'].loc[i] / backtest_df['Close'].loc[i+240]) - 1 \\n        else:\\n            RR = 0\\n        RR_240d.append(RR)\\n    backtest_df['RR_5d'] = RR_5d\\n    backtest_df['RR_10d'] = RR_10d\\n    backtest_df['RR_15d'] = RR_15d\\n    backtest_df['RR_20d'] = RR_20d\\n    backtest_df['RR_30d'] = RR_30d\\n    backtest_df['RR_60d'] = RR_60d\\n    backtest_df['RR_90d'] = RR_90d\\n    backtest_df['RR_120d'] = RR_120d\\n    backtest_df['RR_180d'] = RR_180d\\n    backtest_df['RR_240d'] = RR_240d\\n\""
      ]
     },
     "execution_count": 5,
     "metadata": {},
     "output_type": "execute_result"
    }
   ],
   "source": [
    "backtest = pd.DataFrame()\n",
    "lower = 1750\n",
    "upper = 1800\n",
    "for code in df_drop_test['code'].values[lower:upper]:\n",
    "    test_df = test_list[test_list['code'] == code].reset_index(drop=True)\n",
    "\n",
    "    img_list_test = []\n",
    "    for i in range(len(test_df)):\n",
    "        img_test = cv2.imread(test_df['File Paths'].loc[i])\n",
    "        img_test = cv2.resize(img_test, (323, 172))\n",
    "        img_list_test.append(img_test)\n",
    "    X_test = np.concatenate(img_list_test, axis = 0)\n",
    "\n",
    "    X_test = X_test.reshape(len(test_df), 323,172,3)/255\n",
    "    y_prob = model.predict(X_test)\n",
    "    y_prob_flat = np.ravel(y_prob)\n",
    "    y_prob_df = pd.DataFrame({'predict_rate':y_prob_flat})\n",
    "    y_prob_df['Decision'] = y_prob_df['predict_rate'].apply(lambda value:'Sell' if value<=y_prob_df['predict_rate'].min() else ('Buy' if value >= y_prob_df['predict_rate'].max() else 'No Action'))\n",
    "\n",
    "    backtest_df = pd.concat([test_df['code'],test_df['Date'],y_prob_df['Decision'],y_prob_df['predict_rate'],test_df['Close']],axis=1)\n",
    "    backtest_df['RR'] = 0\n",
    "    buy_index = backtest_df[backtest_df['Decision'] == 'Buy'].index[0]\n",
    "    sell_index = backtest_df[backtest_df['Decision'] == 'Sell'].index[0]\n",
    "\n",
    "    if buy_index > sell_index:\n",
    "        backtest_df.loc[sell_index, 'RR'] = backtest_df.loc[sell_index, 'Close'] /backtest_df.loc[buy_index, 'Close'] - 1\n",
    "    elif buy_index < sell_index:\n",
    "        backtest_df.loc[buy_index, 'RR']  = backtest_df.loc[sell_index, 'Close']/backtest_df.loc[buy_index, 'Close'] - 1\n",
    "    backtest = pd.concat([backtest,backtest_df])\n"
   ]
  },
  {
   "cell_type": "code",
   "execution_count": 6,
   "id": "f994394f",
   "metadata": {
    "scrolled": false
   },
   "outputs": [],
   "source": [
    "backtest.to_csv('backtest_' + str(lower) +'_' + str(upper) + '.csv')"
   ]
  },
  {
   "cell_type": "code",
   "execution_count": null,
   "id": "56c13e21",
   "metadata": {},
   "outputs": [],
   "source": []
  },
  {
   "cell_type": "code",
   "execution_count": null,
   "id": "bfb0cf95",
   "metadata": {},
   "outputs": [],
   "source": []
  }
 ],
 "metadata": {
  "kernelspec": {
   "display_name": "Python 3 (ipykernel)",
   "language": "python",
   "name": "python3"
  },
  "language_info": {
   "codemirror_mode": {
    "name": "ipython",
    "version": 3
   },
   "file_extension": ".py",
   "mimetype": "text/x-python",
   "name": "python",
   "nbconvert_exporter": "python",
   "pygments_lexer": "ipython3",
   "version": "3.11.5"
  }
 },
 "nbformat": 4,
 "nbformat_minor": 5
}
