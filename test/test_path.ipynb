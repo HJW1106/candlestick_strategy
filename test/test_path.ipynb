{
 "cells": [
  {
   "cell_type": "code",
   "execution_count": 1,
   "id": "c92c9ef5",
   "metadata": {},
   "outputs": [],
   "source": [
    "import pandas as pd\n",
    "import os\n",
    "import numpy as np "
   ]
  },
  {
   "cell_type": "code",
   "execution_count": 2,
   "id": "41f806ac",
   "metadata": {},
   "outputs": [],
   "source": [
    "test_0 = pd.read_csv(r'..\\Paper\\Test\\Test_data_1800_1815.csv').iloc[:,1:]"
   ]
  },
  {
   "cell_type": "code",
   "execution_count": 3,
   "id": "c86fe346",
   "metadata": {
    "scrolled": false
   },
   "outputs": [],
   "source": [
    "\n",
    "file_path = '..\\Paper\\Test\\\\'\n",
    "test = pd.DataFrame()\n",
    "for i in range(0,1800,100):\n",
    "    test_path = pd.read_csv(os.path.join(file_path, 'Test_data_' + str(i) + '_' + str(i+100) + '.csv')).iloc[:,1:]\n",
    "    test = pd.concat([test,test_path])\n"
   ]
  },
  {
   "cell_type": "code",
   "execution_count": 4,
   "id": "a834707d",
   "metadata": {
    "scrolled": true
   },
   "outputs": [],
   "source": [
    "test = pd.concat([test,test_0]).reset_index(drop=True)"
   ]
  },
  {
   "cell_type": "code",
   "execution_count": 5,
   "id": "a0438994",
   "metadata": {
    "scrolled": true
   },
   "outputs": [],
   "source": [
    "test['code'] = test.iloc[:, 0].str.split(\"\\\\\").str[0]"
   ]
  },
  {
   "cell_type": "code",
   "execution_count": 6,
   "id": "6c935c87",
   "metadata": {},
   "outputs": [],
   "source": [
    "test.to_csv('test_path.csv')"
   ]
  },
  {
   "cell_type": "code",
   "execution_count": null,
   "id": "6ef84420",
   "metadata": {},
   "outputs": [],
   "source": []
  }
 ],
 "metadata": {
  "kernelspec": {
   "display_name": "Python 3 (ipykernel)",
   "language": "python",
   "name": "python3"
  },
  "language_info": {
   "codemirror_mode": {
    "name": "ipython",
    "version": 3
   },
   "file_extension": ".py",
   "mimetype": "text/x-python",
   "name": "python",
   "nbconvert_exporter": "python",
   "pygments_lexer": "ipython3",
   "version": "3.9.18"
  }
 },
 "nbformat": 4,
 "nbformat_minor": 5
}
