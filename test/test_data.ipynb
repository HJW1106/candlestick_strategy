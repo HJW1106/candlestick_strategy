{
 "cells": [
  {
   "cell_type": "code",
   "execution_count": 1,
   "id": "6893aa1e",
   "metadata": {
    "scrolled": false
   },
   "outputs": [],
   "source": [
    "import pandas as pd\n",
    "import matplotlib.pyplot as plt\n",
    "import numpy as np\n",
    "import mplfinance as mpf\n",
    "import os\n",
    "from pandas import to_datetime"
   ]
  },
  {
   "cell_type": "code",
   "execution_count": 2,
   "id": "1c375145",
   "metadata": {},
   "outputs": [],
   "source": [
    "data_test = pd.read_excel(r'C:\\Users\\USER\\Paper\\Test_2023.xlsx')"
   ]
  },
  {
   "cell_type": "code",
   "execution_count": 3,
   "id": "aa8139a8",
   "metadata": {},
   "outputs": [],
   "source": [
    "df = data_test.rename(columns={'年月日':'Date',\n",
    "                              '開盤價(元)':'Open',\n",
    "                              '最高價(元)':'High',\n",
    "                              '最低價(元)':'Low',\n",
    "                              '收盤價(元)':'Close',})"
   ]
  },
  {
   "cell_type": "code",
   "execution_count": 4,
   "id": "94b7a8e8",
   "metadata": {
    "scrolled": true
   },
   "outputs": [],
   "source": [
    "df_drop = df.drop_duplicates('代號',keep='first').reset_index(drop=True)"
   ]
  },
  {
   "cell_type": "code",
   "execution_count": 5,
   "id": "777dcc4c",
   "metadata": {
    "scrolled": true
   },
   "outputs": [
    {
     "data": {
      "text/plain": [
       "1815"
      ]
     },
     "execution_count": 5,
     "metadata": {},
     "output_type": "execute_result"
    }
   ],
   "source": [
    "len(df_drop['代號'])"
   ]
  },
  {
   "cell_type": "code",
   "execution_count": 6,
   "id": "508a5f3a",
   "metadata": {},
   "outputs": [],
   "source": [
    "df['Date'] = pd.to_datetime(df['Date'])"
   ]
  },
  {
   "cell_type": "code",
   "execution_count": 7,
   "id": "0950c7e5",
   "metadata": {
    "scrolled": true
   },
   "outputs": [
    {
     "data": {
      "text/html": [
       "<div>\n",
       "<style scoped>\n",
       "    .dataframe tbody tr th:only-of-type {\n",
       "        vertical-align: middle;\n",
       "    }\n",
       "\n",
       "    .dataframe tbody tr th {\n",
       "        vertical-align: top;\n",
       "    }\n",
       "\n",
       "    .dataframe thead th {\n",
       "        text-align: right;\n",
       "    }\n",
       "</style>\n",
       "<table border=\"1\" class=\"dataframe\">\n",
       "  <thead>\n",
       "    <tr style=\"text-align: right;\">\n",
       "      <th></th>\n",
       "      <th>代號</th>\n",
       "      <th>名稱</th>\n",
       "      <th>Date</th>\n",
       "      <th>Open</th>\n",
       "      <th>High</th>\n",
       "      <th>Low</th>\n",
       "      <th>Close</th>\n",
       "      <th>成交值(千元)</th>\n",
       "      <th>全額交割(Y)</th>\n",
       "    </tr>\n",
       "  </thead>\n",
       "  <tbody>\n",
       "    <tr>\n",
       "      <th>0</th>\n",
       "      <td>Y9999</td>\n",
       "      <td>加權指數</td>\n",
       "      <td>2022-07-15</td>\n",
       "      <td>14483.96</td>\n",
       "      <td>14579.73</td>\n",
       "      <td>14378.33</td>\n",
       "      <td>14550.62</td>\n",
       "      <td>231695665</td>\n",
       "      <td>NaN</td>\n",
       "    </tr>\n",
       "    <tr>\n",
       "      <th>1</th>\n",
       "      <td>Y9999</td>\n",
       "      <td>加權指數</td>\n",
       "      <td>2022-07-18</td>\n",
       "      <td>14589.10</td>\n",
       "      <td>14719.64</td>\n",
       "      <td>14589.10</td>\n",
       "      <td>14719.64</td>\n",
       "      <td>229912658</td>\n",
       "      <td>NaN</td>\n",
       "    </tr>\n",
       "    <tr>\n",
       "      <th>2</th>\n",
       "      <td>Y9999</td>\n",
       "      <td>加權指數</td>\n",
       "      <td>2022-07-19</td>\n",
       "      <td>14638.45</td>\n",
       "      <td>14720.13</td>\n",
       "      <td>14598.99</td>\n",
       "      <td>14694.08</td>\n",
       "      <td>199312047</td>\n",
       "      <td>NaN</td>\n",
       "    </tr>\n",
       "    <tr>\n",
       "      <th>3</th>\n",
       "      <td>Y9999</td>\n",
       "      <td>加權指數</td>\n",
       "      <td>2022-07-20</td>\n",
       "      <td>14810.40</td>\n",
       "      <td>14906.95</td>\n",
       "      <td>14694.20</td>\n",
       "      <td>14733.22</td>\n",
       "      <td>259238995</td>\n",
       "      <td>NaN</td>\n",
       "    </tr>\n",
       "    <tr>\n",
       "      <th>4</th>\n",
       "      <td>Y9999</td>\n",
       "      <td>加權指數</td>\n",
       "      <td>2022-07-21</td>\n",
       "      <td>14744.17</td>\n",
       "      <td>14937.70</td>\n",
       "      <td>14716.02</td>\n",
       "      <td>14937.70</td>\n",
       "      <td>238836209</td>\n",
       "      <td>NaN</td>\n",
       "    </tr>\n",
       "    <tr>\n",
       "      <th>...</th>\n",
       "      <td>...</td>\n",
       "      <td>...</td>\n",
       "      <td>...</td>\n",
       "      <td>...</td>\n",
       "      <td>...</td>\n",
       "      <td>...</td>\n",
       "      <td>...</td>\n",
       "      <td>...</td>\n",
       "      <td>...</td>\n",
       "    </tr>\n",
       "    <tr>\n",
       "      <th>639745</th>\n",
       "      <td>9962</td>\n",
       "      <td>有益</td>\n",
       "      <td>2023-12-25</td>\n",
       "      <td>18.60</td>\n",
       "      <td>19.10</td>\n",
       "      <td>18.45</td>\n",
       "      <td>18.45</td>\n",
       "      <td>19349</td>\n",
       "      <td>NaN</td>\n",
       "    </tr>\n",
       "    <tr>\n",
       "      <th>639746</th>\n",
       "      <td>9962</td>\n",
       "      <td>有益</td>\n",
       "      <td>2023-12-26</td>\n",
       "      <td>18.55</td>\n",
       "      <td>18.65</td>\n",
       "      <td>18.30</td>\n",
       "      <td>18.45</td>\n",
       "      <td>7201</td>\n",
       "      <td>NaN</td>\n",
       "    </tr>\n",
       "    <tr>\n",
       "      <th>639747</th>\n",
       "      <td>9962</td>\n",
       "      <td>有益</td>\n",
       "      <td>2023-12-27</td>\n",
       "      <td>18.50</td>\n",
       "      <td>18.85</td>\n",
       "      <td>18.20</td>\n",
       "      <td>18.35</td>\n",
       "      <td>11151</td>\n",
       "      <td>NaN</td>\n",
       "    </tr>\n",
       "    <tr>\n",
       "      <th>639748</th>\n",
       "      <td>9962</td>\n",
       "      <td>有益</td>\n",
       "      <td>2023-12-28</td>\n",
       "      <td>18.55</td>\n",
       "      <td>18.55</td>\n",
       "      <td>18.25</td>\n",
       "      <td>18.25</td>\n",
       "      <td>4810</td>\n",
       "      <td>NaN</td>\n",
       "    </tr>\n",
       "    <tr>\n",
       "      <th>639749</th>\n",
       "      <td>9962</td>\n",
       "      <td>有益</td>\n",
       "      <td>2023-12-29</td>\n",
       "      <td>18.30</td>\n",
       "      <td>18.30</td>\n",
       "      <td>18.05</td>\n",
       "      <td>18.25</td>\n",
       "      <td>7428</td>\n",
       "      <td>NaN</td>\n",
       "    </tr>\n",
       "  </tbody>\n",
       "</table>\n",
       "<p>639750 rows × 9 columns</p>\n",
       "</div>"
      ],
      "text/plain": [
       "           代號    名稱       Date      Open      High       Low     Close  \\\n",
       "0       Y9999  加權指數 2022-07-15  14483.96  14579.73  14378.33  14550.62   \n",
       "1       Y9999  加權指數 2022-07-18  14589.10  14719.64  14589.10  14719.64   \n",
       "2       Y9999  加權指數 2022-07-19  14638.45  14720.13  14598.99  14694.08   \n",
       "3       Y9999  加權指數 2022-07-20  14810.40  14906.95  14694.20  14733.22   \n",
       "4       Y9999  加權指數 2022-07-21  14744.17  14937.70  14716.02  14937.70   \n",
       "...       ...   ...        ...       ...       ...       ...       ...   \n",
       "639745   9962    有益 2023-12-25     18.60     19.10     18.45     18.45   \n",
       "639746   9962    有益 2023-12-26     18.55     18.65     18.30     18.45   \n",
       "639747   9962    有益 2023-12-27     18.50     18.85     18.20     18.35   \n",
       "639748   9962    有益 2023-12-28     18.55     18.55     18.25     18.25   \n",
       "639749   9962    有益 2023-12-29     18.30     18.30     18.05     18.25   \n",
       "\n",
       "          成交值(千元) 全額交割(Y)  \n",
       "0       231695665     NaN  \n",
       "1       229912658     NaN  \n",
       "2       199312047     NaN  \n",
       "3       259238995     NaN  \n",
       "4       238836209     NaN  \n",
       "...           ...     ...  \n",
       "639745      19349     NaN  \n",
       "639746       7201     NaN  \n",
       "639747      11151     NaN  \n",
       "639748       4810     NaN  \n",
       "639749       7428     NaN  \n",
       "\n",
       "[639750 rows x 9 columns]"
      ]
     },
     "execution_count": 7,
     "metadata": {},
     "output_type": "execute_result"
    }
   ],
   "source": [
    "df"
   ]
  },
  {
   "cell_type": "code",
   "execution_count": 22,
   "id": "9034fa16",
   "metadata": {
    "scrolled": true
   },
   "outputs": [],
   "source": [
    "figure_paths = []\n",
    "close_price = []\n",
    "index_list = []\n",
    "test_scale_min = 1800\n",
    "test_scale_max = 1815\n",
    "for code in df_drop['代號'].values[test_scale_min:test_scale_max]:\n",
    "    draw_df = df[df['代號'] == code].reset_index(drop=True) \n",
    "\n",
    "    for i in range(len(draw_df)-120):\n",
    "        \n",
    "        stock = draw_df[i:i+120]\n",
    "        stock = stock.iloc[:,2:].set_index('Date')\n",
    "\n",
    "        if not os.path.exists(code):\n",
    "            os.makedirs(code)\n",
    "        mc = mpf.make_marketcolors(up='r', down='g', inherit=True)\n",
    "        s  = mpf.make_mpf_style(base_mpf_style='yahoo', marketcolors=mc)\n",
    "        mpf.plot(stock,\n",
    "                type='candle',\n",
    "                volume=False,\n",
    "                figratio=(15,8),\n",
    "                figscale=1,\n",
    "                style=s,\n",
    "                axisoff = True,\n",
    "                savefig=os.path.join(code, code + '_' + str(i) + '.png'))\n",
    "        figure_paths.append(os.path.join(code, code + '_' + str(i) + '.png'))\n",
    "        close_price.append(stock['Close'].iloc[-1])\n",
    "        index_list.append(stock.index[-1])\n",
    "        \n",
    "figure_data = pd.DataFrame({'File Paths': figure_paths,'Close':close_price,'Date': index_list})\n",
    "figure_data['code'] = figure_data.iloc[:, 0].str.split(\"\\\\\").str[0] \n",
    "figure_data.to_csv('Test_data' + '_' + str(test_scale_min) + '_' + str(test_scale_max) +'.csv')"
   ]
  },
  {
   "cell_type": "code",
   "execution_count": null,
   "id": "2e5243c3",
   "metadata": {},
   "outputs": [],
   "source": []
  }
 ],
 "metadata": {
  "kernelspec": {
   "display_name": "Python 3 (ipykernel)",
   "language": "python",
   "name": "python3"
  },
  "language_info": {
   "codemirror_mode": {
    "name": "ipython",
    "version": 3
   },
   "file_extension": ".py",
   "mimetype": "text/x-python",
   "name": "python",
   "nbconvert_exporter": "python",
   "pygments_lexer": "ipython3",
   "version": "3.9.18"
  }
 },
 "nbformat": 4,
 "nbformat_minor": 5
}
