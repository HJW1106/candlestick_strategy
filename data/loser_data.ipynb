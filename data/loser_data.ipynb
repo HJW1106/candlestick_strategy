{
 "cells": [
  {
   "cell_type": "code",
   "execution_count": 1,
   "id": "6893aa1e",
   "metadata": {
    "scrolled": false
   },
   "outputs": [],
   "source": [
    "import pandas as pd\n",
    "import matplotlib.pyplot as plt\n",
    "import numpy as np\n",
    "import mplfinance as mpf\n",
    "import os\n",
    "from pandas import to_datetime"
   ]
  },
  {
   "cell_type": "code",
   "execution_count": 2,
   "id": "1c375145",
   "metadata": {},
   "outputs": [],
   "source": [
    "data_2019 = pd.read_excel(r'C:\\Users\\USER\\Paper\\2019.xlsx')\n",
    "data_2020 = pd.read_excel(r'C:\\Users\\USER\\Paper\\2020.xlsx')\n",
    "data_2021 = pd.read_excel(r'C:\\Users\\USER\\Paper\\2021.xlsx')\n",
    "data_2022 = pd.read_excel(r'C:\\Users\\USER\\Paper\\2022.xlsx')"
   ]
  },
  {
   "cell_type": "code",
   "execution_count": 3,
   "id": "4562f79a",
   "metadata": {},
   "outputs": [],
   "source": [
    "data = pd.concat([data_2019, data_2020,data_2021,data_2022]).reset_index(drop=True)"
   ]
  },
  {
   "cell_type": "code",
   "execution_count": 4,
   "id": "aa8139a8",
   "metadata": {},
   "outputs": [],
   "source": [
    "df = data.rename(columns={'年月日':'Date',\n",
    "                          '開盤價(元)':'Open',\n",
    "                          '最高價(元)':'High',\n",
    "                          '最低價(元)':'Low',\n",
    "                          '收盤價(元)':'Close',})"
   ]
  },
  {
   "cell_type": "code",
   "execution_count": 5,
   "id": "94b7a8e8",
   "metadata": {
    "scrolled": false
   },
   "outputs": [
    {
     "data": {
      "text/plain": [
       "array(['Y9999', 'OTC99', '1101', ..., '6859', '6874', '8227'],\n",
       "      dtype=object)"
      ]
     },
     "execution_count": 5,
     "metadata": {},
     "output_type": "execute_result"
    }
   ],
   "source": [
    "df_drop = df.drop_duplicates('代號',keep='first').reset_index(drop=True)\n",
    "df_drop['代號'].values"
   ]
  },
  {
   "cell_type": "code",
   "execution_count": 6,
   "id": "508a5f3a",
   "metadata": {},
   "outputs": [],
   "source": [
    "df['Date'] = pd.to_datetime(df['Date'])"
   ]
  },
  {
   "cell_type": "code",
   "execution_count": 7,
   "id": "d5af2f38",
   "metadata": {},
   "outputs": [],
   "source": [
    "code_draw = []\n",
    "for code in df_drop['代號'].values:\n",
    "    data = df[df['代號']==code].reset_index(drop=True) \n",
    "    for i in range(len(data)-120):\n",
    "        stock = data[i:i+120]   \n",
    "        if (stock['Low'].min() /  stock['High'].max() - 1) <= -0.6 and (code not in code_draw):\n",
    "            code_draw.append(code)"
   ]
  },
  {
   "cell_type": "code",
   "execution_count": 8,
   "id": "e0d4af8f",
   "metadata": {
    "scrolled": false
   },
   "outputs": [
    {
     "data": {
      "text/plain": [
       "1090"
      ]
     },
     "execution_count": 8,
     "metadata": {},
     "output_type": "execute_result"
    }
   ],
   "source": [
    "len(code_draw)"
   ]
  },
  {
   "cell_type": "code",
   "execution_count": 9,
   "id": "9034fa16",
   "metadata": {
    "scrolled": true
   },
   "outputs": [],
   "source": [
    "drawn_stocks = []\n",
    "figure_paths = []\n",
    "upper = 350\n",
    "lower = 0\n",
    "for code in code_draw:\n",
    "    draw_df = df[df['代號'] == code].reset_index(drop=True) \n",
    "\n",
    "    for i in range(len(draw_df)-120):\n",
    "        \n",
    "        stock = draw_df[i:i+120]\n",
    "        stock = stock.iloc[:,2:].reset_index(drop=True)\n",
    "        for j in range(len(draw_df.index[draw_df['High'] == stock['High'].max()])):\n",
    "            max_loc = draw_df.index[draw_df['High'] == stock['High'].max()][j]\n",
    "            min_loc = max_loc - 120\n",
    "\n",
    "            if (stock['Low'].min()/stock['High'].max()-1)<=-0.3 and (stock['High'].idxmax()<stock['Low'].idxmin()):\n",
    "                draw = draw_df[min_loc:max_loc].set_index('Date')\n",
    "                if draw['High'].max() != draw_df['High'].loc[max_loc]:\n",
    "                    continue \n",
    "                if any(draw.equals(existing_draw) for existing_draw in drawn_stocks):\n",
    "                    continue\n",
    "                else:\n",
    "\n",
    "                    if len(draw) == 120:\n",
    "                        if not os.path.exists(code):\n",
    "                            os.makedirs(code)\n",
    "                        mc = mpf.make_marketcolors(up='r', down='g', inherit=True)\n",
    "                        s  = mpf.make_mpf_style(base_mpf_style='yahoo', marketcolors=mc)\n",
    "                        mpf.plot(draw,\n",
    "                                type='candle',\n",
    "                                volume=False,\n",
    "                                figratio=(15,8),\n",
    "                                figscale=1,\n",
    "                                style=s,\n",
    "                                axisoff = True,\n",
    "                                savefig=os.path.join(code, code + '_' + str(i) + '_' + str(j) + '.png'))    \n",
    "                        figure_paths.append(os.path.join(code, code + '_' + str(i) + '_' + str(j) + '.png'))\n",
    "                drawn_stocks.append(draw)"
   ]
  },
  {
   "cell_type": "code",
   "execution_count": 10,
   "id": "bafdfae3",
   "metadata": {},
   "outputs": [],
   "source": [
    "figure_paths = pd.DataFrame({'File Paths': figure_paths})\n",
    "figure_paths.to_csv('Loser_path.csv')\n",
    "#figure_paths.to_csv('Loser_path' + '_' + str(lower) + '_' + str(upper) + '.csv')"
   ]
  },
  {
   "cell_type": "code",
   "execution_count": null,
   "id": "79593f94",
   "metadata": {},
   "outputs": [],
   "source": []
  }
 ],
 "metadata": {
  "kernelspec": {
   "display_name": "Python 3 (ipykernel)",
   "language": "python",
   "name": "python3"
  },
  "language_info": {
   "codemirror_mode": {
    "name": "ipython",
    "version": 3
   },
   "file_extension": ".py",
   "mimetype": "text/x-python",
   "name": "python",
   "nbconvert_exporter": "python",
   "pygments_lexer": "ipython3",
   "version": "3.9.18"
  }
 },
 "nbformat": 4,
 "nbformat_minor": 5
}
